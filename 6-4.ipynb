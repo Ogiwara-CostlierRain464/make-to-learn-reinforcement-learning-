{
 "cells": [
  {
   "cell_type": "markdown",
   "metadata": {
    "collapsed": true,
    "pycharm": {
     "name": "#%% md\n"
    }
   },
   "source": [
    "# 6.4 Prioritized Experience Replay\n",
    "Q学習がきちんと進んでない状態`s`のtransitionに対して、\n",
    "優先的に学習させる深層強化学習。\n",
    "Prioritizeとは、プライオリティー(優先順位)をつけるという意味。\n",
    "\n",
    "次の式で表される価値関数のベルマン方程式の絶対値誤差(TD誤差)を元に優先順位をつける。\n",
    "\n",
    "$$\n",
    "|[R(t+1)+\\gamma \\times \\max_a[Q(s(t+1),a)]] - Q(s(t), a(t))|\n",
    "$$\n",
    "\n",
    "この\n",
    "\n",
    "\n",
    "\n"
   ]
  }
 ],
 "metadata": {
  "kernelspec": {
   "display_name": "Python 3",
   "language": "python",
   "name": "python3"
  },
  "language_info": {
   "codemirror_mode": {
    "name": "ipython",
    "version": 2
   },
   "file_extension": ".py",
   "mimetype": "text/x-python",
   "name": "python",
   "nbconvert_exporter": "python",
   "pygments_lexer": "ipython2",
   "version": "2.7.6"
  },
  "pycharm": {
   "stem_cell": {
    "cell_type": "raw",
    "source": [],
    "metadata": {
     "collapsed": false
    }
   }
  }
 },
 "nbformat": 4,
 "nbformat_minor": 0
}