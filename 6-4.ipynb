{
 "cells": [
  {
   "cell_type": "markdown",
   "metadata": {
    "collapsed": true,
    "pycharm": {
     "name": "#%% md\n"
    }
   },
   "source": [
    "# 6.4 Prioritized Experience Replay\n",
    "Q学習がきちんと進んでない状態`s`のtransitionに対して、\n",
    "優先的に学習させる深層強化学習。\n",
    "Prioritizeとは、プライオリティー(優先順位)をつけるという意味。\n",
    "\n",
    "次の式で表される価値関数のベルマン方程式の絶対値誤差(TD誤差)を元に優先順位をつける。\n",
    "\n",
    "$$\n",
    "|[R(t+1)+\\gamma \\times \\max_a[Q(s(t+1),a)]] - Q(s(t), a(t))|\n",
    "$$\n",
    "\n",
    "このTD誤差が大きいtransitionを優先的にExperience Replay時に学習させ、価値関数のネットワークの\n",
    "出力誤差が小さくなるようにする。"
   ]
  },
  {
   "cell_type": "code",
   "execution_count": null,
   "outputs": [],
   "source": [
    "import numpy as np\n",
    "\n",
    "TD_ERROR_EPSILON = 0.0001\n",
    "\n",
    "class TDErrorMemory:\n",
    "    \n",
    "    def __init__(self, CAPACITY):\n",
    "        self.capacity = CAPACITY\n",
    "        self.memory = []\n",
    "        self.index = 0\n",
    "        \n",
    "        "
   ],
   "metadata": {
    "collapsed": false,
    "pycharm": {
     "name": "#%%\n"
    }
   }
  }
 ],
 "metadata": {
  "kernelspec": {
   "display_name": "Python 3",
   "language": "python",
   "name": "python3"
  },
  "language_info": {
   "codemirror_mode": {
    "name": "ipython",
    "version": 2
   },
   "file_extension": ".py",
   "mimetype": "text/x-python",
   "name": "python",
   "nbconvert_exporter": "python",
   "pygments_lexer": "ipython2",
   "version": "2.7.6"
  },
  "pycharm": {
   "stem_cell": {
    "cell_type": "raw",
    "source": [],
    "metadata": {
     "collapsed": false
    }
   }
  }
 },
 "nbformat": 4,
 "nbformat_minor": 0
}