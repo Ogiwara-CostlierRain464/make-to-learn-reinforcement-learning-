{
 "cells": [
  {
   "cell_type": "markdown",
   "metadata": {
    "collapsed": true,
    "pycharm": {
     "name": "#%% md\n"
    }
   },
   "source": [
    "# 6.4 Prioritized Experience Replay\n",
    "Q学習がきちんと進んでない状態`s`のtransitionに対して、\n",
    "優先的に学習させる深層強化学習。\n",
    "Prioritizeとは、プライオリティー(優先順位)をつけるという意味。\n",
    "\n",
    "次の式で表される価値関数のベルマン方程式の絶対値誤差(TD誤差)を元に優先順位をつける。\n",
    "\n",
    "$$\n",
    "|[R(t+1)+\\gamma \\times \\max_a[Q(s(t+1),a)]] - Q(s(t), a(t))|\n",
    "$$\n",
    "\n",
    "このTD誤差が大きいtransitionを優先的にExperience Replay時に学習させ、価値関数のネットワークの\n",
    "出力誤差が小さくなるようにする。"
   ]
  },
  {
   "cell_type": "code",
   "execution_count": null,
   "outputs": [],
   "source": [
    "import numpy as np\n",
    "\n",
    "TD_ERROR_EPSILON = 0.0001\n",
    "\n",
    "class TDErrorMemory:\n",
    "    \n",
    "    def __init__(self, CAPACITY):\n",
    "        self.capacity = CAPACITY\n",
    "        self.memory = []\n",
    "        self.index = 0\n",
    "        \n",
    "    def push(self, td_error):\n",
    "        \"\"\"TD誤差をメモリに保存\"\"\"\n",
    "        if len(self.memory) < self.capacity:\n",
    "            self.memory.append(None)\n",
    "            \n",
    "        self.memory[self.index] = td_error\n",
    "        self.index = (self.index + 1) % self.capacity\n",
    "        \n",
    "    def __len__(self):\n",
    "        return len(self.memory)\n",
    "    \n",
    "    def get_prioritized_indexes(self, batch_size):\n",
    "        \"\"\"TD誤差に応じた確率でindexを取得\"\"\"\n",
    "        sum_absolute_td_error = np.sum(np.absolute(self.memory))\n",
    "        sum_absolute_td_error += TD_ERROR_EPSILON * len(self.memory)\n",
    "        \n",
    "        # batch_size分の乱数を生成して、昇順にする\n",
    "        rand_list = np.random.uniform(0, sum_absolute_td_error, batch_size)\n",
    "        rand_list = np.sort(rand_list)\n",
    "        \n",
    "        indexes = []\n",
    "        idx = 0\n",
    "        tmp_sum_absolute_td_error = 0\n",
    "        for rand_num in rand_list:\n",
    "            while tmp_sum_absolute_td_error < rand_num:\n",
    "                tmp_sum_absolute_td_error += (\n",
    "                    abs(self.memory[idx]) + TD_ERROR_EPSILON\n",
    "                )\n",
    "                idx += 1\n",
    "            \n",
    "            if idx >= len(self.memory):\n",
    "                idx = len(self.memory) - 1\n",
    "            indexes.append(idx)\n",
    "            \n",
    "        return indexes\n",
    "    \n",
    "    def update_td_error(self, updated_td_errors):\n",
    "        \"\"\"TD誤差の更新\"\"\"\n",
    "        self.memory = updated_td_errors\n",
    "            "
   ],
   "metadata": {
    "collapsed": false,
    "pycharm": {
     "name": "#%%\n"
    }
   }
  }
 ],
 "metadata": {
  "kernelspec": {
   "display_name": "Python 3",
   "language": "python",
   "name": "python3"
  },
  "language_info": {
   "codemirror_mode": {
    "name": "ipython",
    "version": 2
   },
   "file_extension": ".py",
   "mimetype": "text/x-python",
   "name": "python",
   "nbconvert_exporter": "python",
   "pygments_lexer": "ipython2",
   "version": "2.7.6"
  },
  "pycharm": {
   "stem_cell": {
    "cell_type": "raw",
    "source": [],
    "metadata": {
     "collapsed": false
    }
   }
  }
 },
 "nbformat": 4,
 "nbformat_minor": 0
}