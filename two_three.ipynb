{
 "cells": [
  {
   "cell_type": "markdown",
   "source": [
    "# 2.3 方策反復法の実装\n",
    "\n",
    "前節では迷路内をAgentがランダムに行動する方策を実装した。  \n",
    "これから、Agentが一直線にゴールへ向かうように方策を学習させる。\n",
    "この方法は大きく二つの方法がある。\n",
    "\n",
    "## 方策反復法\n",
    "うまくいったケースの行動を重要視する作戦\n",
    "\n",
    "$$\n",
    "\\theta_{s_i,a_j} \\leftarrow \\theta_{s_i,a_j} + \\eta \\cdot \\Delta \\theta_{s, a_j} \\\\ \\Delta \\theta_{s, a_j} = \\{ N(s_i, a_j) - P(s_i, a_j) N (s_i, a) \\}  / T \n",
    "$$\n",
    "\n",
    "## 価値反復法\n",
    "ゴール以外の状態にも価値をつけてあげる"
   ],
   "metadata": {
    "collapsed": false
   }
  },
  {
   "cell_type": "code",
   "execution_count": 1,
   "outputs": [
    {
     "data": {
      "text/plain": "2"
     },
     "metadata": {},
     "output_type": "execute_result",
     "execution_count": 1
    }
   ],
   "source": [
    "1 + 1\n"
   ],
   "metadata": {
    "collapsed": false,
    "pycharm": {
     "name": "#%%\n",
     "is_executing": false
    }
   }
  }
 ],
 "metadata": {
  "language_info": {
   "codemirror_mode": {
    "name": "ipython",
    "version": 2
   },
   "file_extension": ".py",
   "mimetype": "text/x-python",
   "name": "python",
   "nbconvert_exporter": "python",
   "pygments_lexer": "ipython2",
   "version": "2.7.6"
  },
  "kernelspec": {
   "name": "python3",
   "language": "python",
   "display_name": "Python 3"
  },
  "pycharm": {
   "stem_cell": {
    "cell_type": "raw",
    "source": [],
    "metadata": {
     "collapsed": false
    }
   }
  }
 },
 "nbformat": 4,
 "nbformat_minor": 0
}