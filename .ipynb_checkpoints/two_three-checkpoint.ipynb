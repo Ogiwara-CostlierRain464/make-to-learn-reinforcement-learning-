{
 "cells": [
  {
   "cell_type": "markdown",
   "metadata": {},
   "source": [
    "# 2.3 方策反復法の実装\n",
    "\n",
    "前節では迷路内をAgentがランダムに行動する方策を実装した。  \n",
    "これから、Agentが一直線にゴールへ向かうように方策を学習させる。\n",
    "この方法は大きく二つの方法がある。\n",
    "\n",
    "## 方策反復法\n",
    "うまくいったケースの行動を重要視する作戦\n",
    "\n",
    "$$\n",
    "y = ax\n",
    "$$\n",
    "\n",
    "## 価値反復法\n",
    "ゴール以外の状態にも価値をつけてあげる"
   ]
  },
  {
   "cell_type": "code",
   "execution_count": 1,
   "metadata": {
    "pycharm": {
     "is_executing": false,
     "name": "#%%\n"
    }
   },
   "outputs": [
    {
     "data": {
      "text/plain": [
       "2"
      ]
     },
     "execution_count": 1,
     "metadata": {},
     "output_type": "execute_result"
    }
   ],
   "source": [
    "1 + 1\n"
   ]
  }
 ],
 "metadata": {
  "kernelspec": {
   "display_name": "Python 3",
   "language": "python",
   "name": "python3"
  },
  "language_info": {
   "codemirror_mode": {
    "name": "ipython",
    "version": 3
   },
   "file_extension": ".py",
   "mimetype": "text/x-python",
   "name": "python",
   "nbconvert_exporter": "python",
   "pygments_lexer": "ipython3",
   "version": "3.7.3"
  },
  "pycharm": {
   "stem_cell": {
    "cell_type": "raw",
    "metadata": {
     "collapsed": false
    },
    "source": []
   }
  }
 },
 "nbformat": 4,
 "nbformat_minor": 1
}
